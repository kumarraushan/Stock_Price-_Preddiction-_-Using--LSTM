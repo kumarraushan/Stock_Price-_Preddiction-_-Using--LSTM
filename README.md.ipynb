{
 "cells": [
  {
   "cell_type": "markdown",
   "id": "bcaa6b5c",
   "metadata": {},
   "source": [
    "   ## Stock_Price-Prediction-Using--LSTM\n",
    "   \n",
    "\n",
    "          Internship-Bharat Intern\n",
    "          Data Science \n",
    "          Task 1- Stock Prediction Using LSTM\n",
    "          \n",
    "          \n",
    "\n",
    "\n",
    "\n"
   ]
  }
 ],
 "metadata": {
  "kernelspec": {
   "display_name": "Python 3 (ipykernel)",
   "language": "python",
   "name": "python3"
  },
  "language_info": {
   "codemirror_mode": {
    "name": "ipython",
    "version": 3
   },
   "file_extension": ".py",
   "mimetype": "text/x-python",
   "name": "python",
   "nbconvert_exporter": "python",
   "pygments_lexer": "ipython3",
   "version": "3.10.9"
  }
 },
 "nbformat": 4,
 "nbformat_minor": 5
}
